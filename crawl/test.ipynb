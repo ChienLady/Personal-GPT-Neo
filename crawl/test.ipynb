{
 "cells": [
  {
   "cell_type": "code",
   "execution_count": 1,
   "metadata": {},
   "outputs": [
    {
     "data": {
      "text/plain": [
       "1644130"
      ]
     },
     "execution_count": 1,
     "metadata": {},
     "output_type": "execute_result"
    }
   ],
   "source": [
    "from SPARQLWrapper import SPARQLWrapper, JSON\n",
    "\n",
    "sparql = SPARQLWrapper('https://query.wikidata.org/sparql')\n",
    "sparql.setQuery('''\n",
    "SELECT ?article WHERE {\n",
    "    ?article schema:isPartOf <https://vi.wikipedia.org/>.\n",
    "\n",
    "    SERVICE wikibase:label {\n",
    "       bd:serviceParam wikibase:language 'vi'\n",
    "    }\n",
    "}\n",
    "''')\n",
    "sparql.setReturnFormat(JSON)\n",
    "results = sparql.query().convert()\n",
    "articals = results['results']['bindings']\n",
    "urls = [artical['article']['value'] for artical in articals]\n",
    "len(urls)"
   ]
  },
  {
   "cell_type": "code",
   "execution_count": 3,
   "metadata": {},
   "outputs": [],
   "source": [
    "import pickle\n",
    "\n",
    "with open('urls.pkl', 'wb') as f:\n",
    "    pickle.dump(urls, f)"
   ]
  },
  {
   "cell_type": "code",
   "execution_count": 4,
   "metadata": {},
   "outputs": [],
   "source": [
    "import pickle\n",
    "\n",
    "with open('urls.pkl', 'rb') as f:\n",
    "    urls = pickle.load(f)"
   ]
  },
  {
   "cell_type": "code",
   "execution_count": 9,
   "metadata": {},
   "outputs": [
    {
     "name": "stderr",
     "output_type": "stream",
     "text": [
      "28477it [2:16:23,  1.18s/it] "
     ]
    }
   ],
   "source": [
    "from bs4 import BeautifulSoup\n",
    "import requests\n",
    "from tqdm import tqdm\n",
    "import os\n",
    "\n",
    "for idx, url in tqdm(enumerate(urls)):\n",
    "    if idx < 20488:\n",
    "        continue\n",
    "    r = requests.get(url)\n",
    "    html = BeautifulSoup(r.text, 'html.parser')\n",
    "\n",
    "    title = html.select('#firstHeading')[0].text\n",
    "    paragraphs = html.select('p')\n",
    "\n",
    "    contents = [para.text.strip('\\n').strip('\\t').strip(' ') for para in paragraphs]\n",
    "    try:\n",
    "        contents.remove('Trang dành cho người dùng chưa đăng nhập tìm hiểu thêm')\n",
    "    except:\n",
    "        pass\n",
    "\n",
    "    intro = 'Bài viết: ' + title + '\\nĐường dẫn bài viết trên wikipedia: ' + urls[14] + '\\n###\\n' + '\\n'.join(contents)\n",
    "\n",
    "    sec = str(idx // 1000).zfill(5)\n",
    "    if not os.path.exists(os.path.join('data', f'data{sec}')):\n",
    "        os.makedirs(os.path.join('data', f'data{sec}'))\n",
    "\n",
    "    with open(os.path.join('data', f'data{sec}', f'{idx}.txt'), 'w', encoding = 'utf-8') as f:\n",
    "        f.write(intro)"
   ]
  },
  {
   "cell_type": "code",
   "execution_count": 43,
   "metadata": {},
   "outputs": [
    {
     "data": {
      "text/plain": [
       "0"
      ]
     },
     "execution_count": 43,
     "metadata": {},
     "output_type": "execute_result"
    }
   ],
   "source": [
    "0 // 100"
   ]
  }
 ],
 "metadata": {
  "kernelspec": {
   "display_name": "venv",
   "language": "python",
   "name": "python3"
  },
  "language_info": {
   "codemirror_mode": {
    "name": "ipython",
    "version": 3
   },
   "file_extension": ".py",
   "mimetype": "text/x-python",
   "name": "python",
   "nbconvert_exporter": "python",
   "pygments_lexer": "ipython3",
   "version": "3.9.13"
  },
  "orig_nbformat": 4,
  "vscode": {
   "interpreter": {
    "hash": "115f788f38a9eb41f9379fa75ee5ba0ac4c29e5efeab3787da272782ba081087"
   }
  }
 },
 "nbformat": 4,
 "nbformat_minor": 2
}
